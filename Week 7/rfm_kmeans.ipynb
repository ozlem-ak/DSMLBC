{
 "cells": [
  {
   "cell_type": "markdown",
   "metadata": {},
   "source": [
    "# RFM metriklerine göre K-Means algoritması ile müşteri segmentasyonu"
   ]
  },
  {
   "cell_type": "markdown",
   "metadata": {},
   "source": [
    "**Problem**\n",
    "\n",
    "Bir e-ticaret şirketi müşterilerini segmentlere ayırıp bu segmentlere göre pazarlama stratejileri belirlemek istiyor. Buna yönelik olarak müşterilerin davranışlarını tanımlayacağız ve bu davranışlarda öbeklenmelere göre gruplar oluşturacağız. Ortak davranışlar sergileyenleri aynı gruplara alacağız ve bu gruplara özel satış ve pazarlama teknikleri geliştirmeye çalışacağız.\n",
    "\n",
    "**Veri Seti**\n",
    "\n",
    "https://archive.ics.uci.edu/ml/datasets/Online+Retail+II\n",
    "\n",
    "Online Retail II isimli veri seti İngiltere merkezli online bir satış mağazasının 01/12/2009 - 09/12/2011 tarihleri arasındaki satışlarını içeriyor. Bu çalışmada 2010-2011 yıllarındaki veriler kullanılmıştır.\n",
    "\n",
    "**Değişkenler**\n",
    "\n",
    "- InvoiceNo: Fatura numarası. Her işleme yani faturaya ait eşsiz numara. Eğer bu kod C ile başlıyorsa işlemin iptal edildiğini ifade eder.\n",
    "- StockCode: Ürün kodu. Her bir ürün için eşsiz numara.\n",
    "- Description: Ürün ismi\n",
    "- Quantity: Ürün adedi. Faturalardaki ürünlerden kaçar tane satıldığını ifade etmektedir.\n",
    "- InvoiceDate: Fatura tarihi ve zamanı. \n",
    "- UnitPrice: Ürün fiyatı (Sterlin cinsinden)\n",
    "- CustomerID: Eşsiz müşteri numarası\n",
    "- Country: Ülke ismi. Müşterinin yaşadığı ülke.\n",
    "\n"
   ]
  },
  {
   "cell_type": "markdown",
   "metadata": {},
   "source": [
    "# Data Understanding"
   ]
  },
  {
   "cell_type": "code",
   "execution_count": 22,
   "metadata": {},
   "outputs": [],
   "source": [
    "#gerekli kütüphaneler import edilmiştir.\n",
    "import pandas as pd    \n",
    "import numpy as np\n",
    "import warnings\n",
    "\n",
    "warnings.filterwarnings(\"ignore\", category=DeprecationWarning) \n",
    "warnings.filterwarnings(\"ignore\", category=FutureWarning)\n",
    "\n",
    "#Tüm sutünları ve satırları gözlemlemek için kullanılan kod.\n",
    "pd.set_option('display.max_columns',None); \n",
    "pd.set_option(\"display.max_rows\",None);\n",
    "pd.set_option(\"display.float_format\",lambda x:\"%.2f\" % x) #ondalık sayılarda virgülden sonra gösterilecek basamak sayısı.\n",
    "\n",
    "#Data seti okunmuştur.\n",
    "df_2010_2011 = pd.read_excel(\"online_retail.xlsx\", sheet_name = \"Year 2010-2011\")\n",
    "df = df_2010_2011.copy()"
   ]
  },
  {
   "cell_type": "markdown",
   "metadata": {},
   "source": [
    "# Data Preprocessing"
   ]
  },
  {
   "cell_type": "code",
   "execution_count": 23,
   "metadata": {},
   "outputs": [
    {
     "name": "stdout",
     "output_type": "stream",
     "text": [
      "Quantity yes\n",
      "Price yes\n"
     ]
    }
   ],
   "source": [
    "# C ile başlayan fatura numaraları silinmiştir.\n",
    "df=df[~df[\"Invoice\"].astype(str).str.startswith(\"C\")] \n",
    "\n",
    "# Adet ve fiyat çarpılarak toplam tutar hesaplanmıştır.\"TotalPrice\" olarak yeni değişken oluşturulmuştur.\n",
    "df[\"TotalPrice\"] = df[\"Quantity\"]*df[\"Price\"]\n",
    "\n",
    "# Eksik veriler silinmiştir.\n",
    "df.dropna(inplace = True)\n",
    "\n",
    "# Aykırı değerler\n",
    "# Aykırı gözlemde 1. ve 3. çeyreklikler göz önüne alınarak IQR hesaplanır ve alt, üst sınırlar burada belirlenir. Bu sınırların dışında kalan değerler aykırı sayılır. \n",
    "\n",
    "for feature in [\"Quantity\",\"Price\"]:\n",
    "    Q1=df[feature].quantile(0.01)\n",
    "    Q3=df[feature].quantile(0.99)\n",
    "    IQR=Q3-Q1\n",
    "    upper=Q3+1.5*IQR\n",
    "    lower=Q1-1.5*IQR\n",
    "    \n",
    "    if df[(df[feature] > upper) | (df[feature] < lower)].any(axis=None):\n",
    "        print(feature,\"yes\")\n",
    "    else:\n",
    "        print(feature,\"no\")\n",
    "        \n",
    "    df = df[~((df[feature] > upper) | (df[feature] < lower))] #Bu kod ile aykırı değerler ele alınmamış silinmiş olarak kabul edilmiştir.\n"
   ]
  },
  {
   "cell_type": "markdown",
   "metadata": {},
   "source": [
    "## Customer segmentation with RFM skor"
   ]
  },
  {
   "cell_type": "code",
   "execution_count": 24,
   "metadata": {},
   "outputs": [
    {
     "data": {
      "text/html": [
       "<div>\n",
       "<style scoped>\n",
       "    .dataframe tbody tr th:only-of-type {\n",
       "        vertical-align: middle;\n",
       "    }\n",
       "\n",
       "    .dataframe tbody tr th {\n",
       "        vertical-align: top;\n",
       "    }\n",
       "\n",
       "    .dataframe thead th {\n",
       "        text-align: right;\n",
       "    }\n",
       "</style>\n",
       "<table border=\"1\" class=\"dataframe\">\n",
       "  <thead>\n",
       "    <tr style=\"text-align: right;\">\n",
       "      <th></th>\n",
       "      <th>Customer ID</th>\n",
       "      <th>Recency</th>\n",
       "      <th>Frequency</th>\n",
       "      <th>Monetary</th>\n",
       "      <th>RecencyScore</th>\n",
       "      <th>FrequencyScore</th>\n",
       "      <th>MonetaryScore</th>\n",
       "      <th>RFM_SCORE</th>\n",
       "      <th>Segment</th>\n",
       "    </tr>\n",
       "  </thead>\n",
       "  <tbody>\n",
       "    <tr>\n",
       "      <th>0</th>\n",
       "      <td>12347</td>\n",
       "      <td>1</td>\n",
       "      <td>7</td>\n",
       "      <td>4310.00</td>\n",
       "      <td>5</td>\n",
       "      <td>5</td>\n",
       "      <td>5</td>\n",
       "      <td>555</td>\n",
       "      <td>Champions</td>\n",
       "    </tr>\n",
       "    <tr>\n",
       "      <th>1</th>\n",
       "      <td>12348</td>\n",
       "      <td>74</td>\n",
       "      <td>4</td>\n",
       "      <td>1437.24</td>\n",
       "      <td>2</td>\n",
       "      <td>4</td>\n",
       "      <td>4</td>\n",
       "      <td>244</td>\n",
       "      <td>At Risk</td>\n",
       "    </tr>\n",
       "    <tr>\n",
       "      <th>2</th>\n",
       "      <td>12349</td>\n",
       "      <td>17</td>\n",
       "      <td>1</td>\n",
       "      <td>1417.60</td>\n",
       "      <td>4</td>\n",
       "      <td>1</td>\n",
       "      <td>4</td>\n",
       "      <td>414</td>\n",
       "      <td>Promising</td>\n",
       "    </tr>\n",
       "    <tr>\n",
       "      <th>3</th>\n",
       "      <td>12350</td>\n",
       "      <td>309</td>\n",
       "      <td>1</td>\n",
       "      <td>294.40</td>\n",
       "      <td>1</td>\n",
       "      <td>1</td>\n",
       "      <td>2</td>\n",
       "      <td>112</td>\n",
       "      <td>Hibernating</td>\n",
       "    </tr>\n",
       "    <tr>\n",
       "      <th>4</th>\n",
       "      <td>12352</td>\n",
       "      <td>35</td>\n",
       "      <td>7</td>\n",
       "      <td>1385.74</td>\n",
       "      <td>3</td>\n",
       "      <td>5</td>\n",
       "      <td>4</td>\n",
       "      <td>354</td>\n",
       "      <td>Loyal Customers</td>\n",
       "    </tr>\n",
       "  </tbody>\n",
       "</table>\n",
       "</div>"
      ],
      "text/plain": [
       "   Customer ID  Recency  Frequency  Monetary RecencyScore FrequencyScore  \\\n",
       "0        12347        1          7   4310.00            5              5   \n",
       "1        12348       74          4   1437.24            2              4   \n",
       "2        12349       17          1   1417.60            4              1   \n",
       "3        12350      309          1    294.40            1              1   \n",
       "4        12352       35          7   1385.74            3              5   \n",
       "\n",
       "  MonetaryScore RFM_SCORE          Segment  \n",
       "0             5       555        Champions  \n",
       "1             4       244          At Risk  \n",
       "2             4       414        Promising  \n",
       "3             2       112      Hibernating  \n",
       "4             4       354  Loyal Customers  "
      ]
     },
     "execution_count": 24,
     "metadata": {},
     "output_type": "execute_result"
    }
   ],
   "source": [
    "# RFM metrikleri\n",
    "\n",
    "# RECENCY Metrik\n",
    "import datetime as dt\n",
    "today_date = dt.datetime(2011,12,9) #en son tarih analizin yapıldığı tarih kabul edilmiştir.\n",
    "df[\"Customer ID\"] = df[\"Customer ID\"].astype(int)\n",
    "temp_df = (today_date - df.groupby(\"Customer ID\").agg({\"InvoiceDate\":\"max\"}))\n",
    "temp_df.rename(columns={\"InvoiceDate\": \"Recency\"}, inplace = True)\n",
    "recency_df = temp_df[\"Recency\"].apply(lambda x: x.days) #gün ve saat cinsinden hesaplanan recency değerinden sadece günler yazdırılmıştır.\n",
    "\n",
    "# FREQUENCY Metrik\n",
    "temp_df = df.groupby([\"Customer ID\",\"Invoice\"]).agg({\"Invoice\":\"count\"})\n",
    "freq_df = temp_df.groupby(\"Customer ID\").agg({\"Invoice\":\"count\"})\n",
    "freq_df.rename(columns={\"Invoice\": \"Frequency\"}, inplace = True)\n",
    "\n",
    "# MONETARY Metrik\n",
    "monetary_df = df.groupby(\"Customer ID\").agg({\"TotalPrice\":\"sum\"})\n",
    "monetary_df.rename(columns = {\"TotalPrice\": \"Monetary\"}, inplace = True)\n",
    "rfm = pd.concat([recency_df, freq_df, monetary_df],  axis=1).reset_index()\n",
    "\n",
    "rfm[\"RecencyScore\"] = pd.qcut(rfm['Recency'], 5, labels = [5, 4, 3, 2, 1])\n",
    "rfm[\"FrequencyScore\"] = pd.qcut(rfm['Frequency'].rank(method = \"first\"), 5, labels = [1,2,3,4,5])\n",
    "rfm[\"MonetaryScore\"] = pd.qcut(rfm['Monetary'], 5, labels = [1,2,3,4,5])\n",
    "rfm[\"RFM_SCORE\"] = rfm['RecencyScore'].astype(str) + rfm['FrequencyScore'].astype(str) + rfm['MonetaryScore'].astype(str)\n",
    "\n",
    "seg_map = {\n",
    "        r'[1-2][1-2]': 'Hibernating',\n",
    "        r'[1-2][3-4]': 'At Risk',\n",
    "        r'[1-2]5': 'Can\\'t Loose',\n",
    "        r'3[1-2]': 'About to Sleep',\n",
    "        r'33': 'Need Attention',\n",
    "        r'[3-4][4-5]': 'Loyal Customers',\n",
    "        r'41': 'Promising',\n",
    "        r'51': 'New Customers',\n",
    "        r'[4-5][2-3]': 'Potential Loyalists',\n",
    "        r'5[4-5]': 'Champions'\n",
    "}\n",
    "\n",
    "rfm['Segment'] = rfm['RecencyScore'].astype(str) + rfm['FrequencyScore'].astype(str)\n",
    "rfm['Segment'] = rfm['Segment'].replace(seg_map, regex=True)\n",
    "rfm.head()"
   ]
  },
  {
   "cell_type": "markdown",
   "metadata": {},
   "source": [
    "# Clustering with the K-Means Algorithm"
   ]
  },
  {
   "cell_type": "code",
   "execution_count": 25,
   "metadata": {},
   "outputs": [],
   "source": [
    "#Gerekli kütüphaneler import edilmiştir.\n",
    "import seaborn as sns\n",
    "import matplotlib.pyplot as plt\n",
    "from sklearn.cluster import KMeans\n",
    "from sklearn.preprocessing import MinMaxScaler,StandardScaler"
   ]
  },
  {
   "cell_type": "code",
   "execution_count": 26,
   "metadata": {},
   "outputs": [
    {
     "name": "stderr",
     "output_type": "stream",
     "text": [
      "D:\\anaconda\\lib\\site-packages\\ipykernel_launcher.py:4: SettingWithCopyWarning: \n",
      "A value is trying to be set on a copy of a slice from a DataFrame.\n",
      "Try using .loc[row_indexer,col_indexer] = value instead\n",
      "\n",
      "See the caveats in the documentation: https://pandas.pydata.org/pandas-docs/stable/user_guide/indexing.html#returning-a-view-versus-a-copy\n",
      "  after removing the cwd from sys.path.\n",
      "D:\\anaconda\\lib\\site-packages\\pandas\\core\\indexing.py:965: SettingWithCopyWarning: \n",
      "A value is trying to be set on a copy of a slice from a DataFrame.\n",
      "Try using .loc[row_indexer,col_indexer] = value instead\n",
      "\n",
      "See the caveats in the documentation: https://pandas.pydata.org/pandas-docs/stable/user_guide/indexing.html#returning-a-view-versus-a-copy\n",
      "  self.obj[item] = s\n"
     ]
    }
   ],
   "source": [
    "#df = rfm[['Recency','Frequency','Monetary']]\n",
    "df = rfm[['Customer ID','Recency','Frequency','Monetary']]\n",
    "sc = MinMaxScaler((0,1))\n",
    "df[['Recency','Frequency','Monetary']] = sc.fit_transform(df[['Recency','Frequency','Monetary']])\n"
   ]
  },
  {
   "cell_type": "code",
   "execution_count": 27,
   "metadata": {},
   "outputs": [
    {
     "data": {
      "text/plain": [
       "KMeans(algorithm='auto', copy_x=True, init='k-means++', max_iter=300,\n",
       "       n_clusters=10, n_init=10, n_jobs=None, precompute_distances='auto',\n",
       "       random_state=None, tol=0.0001, verbose=0)"
      ]
     },
     "execution_count": 27,
     "metadata": {},
     "output_type": "execute_result"
    }
   ],
   "source": [
    "kmeans = KMeans(n_clusters = 10)\n",
    "kmeans_model = kmeans.fit(df[['Recency','Frequency']])\n",
    "kmeans_model"
   ]
  },
  {
   "cell_type": "code",
   "execution_count": 28,
   "metadata": {},
   "outputs": [
    {
     "data": {
      "text/plain": [
       "array([[0.11154993, 0.01140806],\n",
       "       [0.6755645 , 0.00171743],\n",
       "       [0.34923794, 0.00623753],\n",
       "       [0.205899  , 0.00803235],\n",
       "       [0.97302537, 0.0017177 ],\n",
       "       [0.01756656, 0.11196094],\n",
       "       [0.51028474, 0.00453353],\n",
       "       [0.00306396, 0.61581137],\n",
       "       [0.03385613, 0.01840195],\n",
       "       [0.81878889, 0.00162555]])"
      ]
     },
     "execution_count": 28,
     "metadata": {},
     "output_type": "execute_result"
    }
   ],
   "source": [
    "centers =kmeans_model.cluster_centers_\n",
    "centers"
   ]
  },
  {
   "cell_type": "code",
   "execution_count": 29,
   "metadata": {},
   "outputs": [
    {
     "name": "stderr",
     "output_type": "stream",
     "text": [
      "D:\\anaconda\\lib\\site-packages\\ipykernel_launcher.py:2: SettingWithCopyWarning: \n",
      "A value is trying to be set on a copy of a slice from a DataFrame.\n",
      "Try using .loc[row_indexer,col_indexer] = value instead\n",
      "\n",
      "See the caveats in the documentation: https://pandas.pydata.org/pandas-docs/stable/user_guide/indexing.html#returning-a-view-versus-a-copy\n",
      "  \n"
     ]
    },
    {
     "data": {
      "text/html": [
       "<div>\n",
       "<style scoped>\n",
       "    .dataframe tbody tr th:only-of-type {\n",
       "        vertical-align: middle;\n",
       "    }\n",
       "\n",
       "    .dataframe tbody tr th {\n",
       "        vertical-align: top;\n",
       "    }\n",
       "\n",
       "    .dataframe thead th {\n",
       "        text-align: right;\n",
       "    }\n",
       "</style>\n",
       "<table border=\"1\" class=\"dataframe\">\n",
       "  <thead>\n",
       "    <tr style=\"text-align: right;\">\n",
       "      <th></th>\n",
       "      <th>Customer ID</th>\n",
       "      <th>Recency</th>\n",
       "      <th>Frequency</th>\n",
       "      <th>Monetary</th>\n",
       "      <th>Cluster</th>\n",
       "    </tr>\n",
       "  </thead>\n",
       "  <tbody>\n",
       "    <tr>\n",
       "      <th>0</th>\n",
       "      <td>12347</td>\n",
       "      <td>0.01</td>\n",
       "      <td>0.03</td>\n",
       "      <td>0.02</td>\n",
       "      <td>9</td>\n",
       "    </tr>\n",
       "    <tr>\n",
       "      <th>1</th>\n",
       "      <td>12348</td>\n",
       "      <td>0.20</td>\n",
       "      <td>0.01</td>\n",
       "      <td>0.01</td>\n",
       "      <td>4</td>\n",
       "    </tr>\n",
       "    <tr>\n",
       "      <th>2</th>\n",
       "      <td>12349</td>\n",
       "      <td>0.05</td>\n",
       "      <td>0.00</td>\n",
       "      <td>0.01</td>\n",
       "      <td>9</td>\n",
       "    </tr>\n",
       "    <tr>\n",
       "      <th>3</th>\n",
       "      <td>12350</td>\n",
       "      <td>0.83</td>\n",
       "      <td>0.00</td>\n",
       "      <td>0.00</td>\n",
       "      <td>10</td>\n",
       "    </tr>\n",
       "    <tr>\n",
       "      <th>4</th>\n",
       "      <td>12352</td>\n",
       "      <td>0.10</td>\n",
       "      <td>0.03</td>\n",
       "      <td>0.01</td>\n",
       "      <td>1</td>\n",
       "    </tr>\n",
       "  </tbody>\n",
       "</table>\n",
       "</div>"
      ],
      "text/plain": [
       "   Customer ID  Recency  Frequency  Monetary  Cluster\n",
       "0        12347     0.01       0.03      0.02        9\n",
       "1        12348     0.20       0.01      0.01        4\n",
       "2        12349     0.05       0.00      0.01        9\n",
       "3        12350     0.83       0.00      0.00       10\n",
       "4        12352     0.10       0.03      0.01        1"
      ]
     },
     "execution_count": 29,
     "metadata": {},
     "output_type": "execute_result"
    }
   ],
   "source": [
    "segments = kmeans_model.labels_\n",
    "df['Cluster'] = segments+1\n",
    "df.head()"
   ]
  },
  {
   "cell_type": "code",
   "execution_count": 30,
   "metadata": {},
   "outputs": [
    {
     "data": {
      "text/plain": [
       "9     1348\n",
       "1      837\n",
       "4      611\n",
       "3      365\n",
       "7      348\n",
       "2      277\n",
       "10     218\n",
       "6      172\n",
       "5      130\n",
       "8        7\n",
       "Name: Cluster, dtype: int64"
      ]
     },
     "execution_count": 30,
     "metadata": {},
     "output_type": "execute_result"
    }
   ],
   "source": [
    "df['Cluster'].value_counts()"
   ]
  },
  {
   "cell_type": "markdown",
   "metadata": {},
   "source": [
    "# Görselleştirme"
   ]
  },
  {
   "cell_type": "code",
   "execution_count": 31,
   "metadata": {},
   "outputs": [
    {
     "name": "stderr",
     "output_type": "stream",
     "text": [
      "D:\\anaconda\\lib\\site-packages\\ipykernel_launcher.py:1: SettingWithCopyWarning: \n",
      "A value is trying to be set on a copy of a slice from a DataFrame.\n",
      "Try using .loc[row_indexer,col_indexer] = value instead\n",
      "\n",
      "See the caveats in the documentation: https://pandas.pydata.org/pandas-docs/stable/user_guide/indexing.html#returning-a-view-versus-a-copy\n",
      "  \"\"\"Entry point for launching an IPython kernel.\n"
     ]
    }
   ],
   "source": [
    "df['RFMSegment'] = np.array(rfm['Segment'])"
   ]
  },
  {
   "cell_type": "code",
   "execution_count": 32,
   "metadata": {},
   "outputs": [
    {
     "data": {
      "text/plain": [
       "Text(0.5, 1.0, 'Customer Segmentation via RFM Analysis')"
      ]
     },
     "execution_count": 32,
     "metadata": {},
     "output_type": "execute_result"
    },
    {
     "data": {
      "image/png": "[encoded data removed]",
      "text/plain": [
       "<Figure size 864x360 with 1 Axes>"
      ]
     },
     "metadata": {},
     "output_type": "display_data"
    }
   ],
   "source": [
    "fig, ax = plt.subplots(figsize=(12,5))\n",
    "sns.scatterplot(df.iloc[:,1], df.iloc[:,2],hue=df['RFMSegment'])\n",
    "plt.xlabel('Recency')\n",
    "plt.ylabel('Frequency')\n",
    "plt.title('Customer Segmentation via RFM Analysis')"
   ]
  },
  {
   "cell_type": "markdown",
   "metadata": {},
   "source": [
    "# RFM Analizi ve K-Means sonucu olusan kumelerin karsilastirilmasi"
   ]
  },
  {
   "cell_type": "code",
   "execution_count": 33,
   "metadata": {},
   "outputs": [
    {
     "data": {
      "text/html": [
       "<div>\n",
       "<style scoped>\n",
       "    .dataframe tbody tr th:only-of-type {\n",
       "        vertical-align: middle;\n",
       "    }\n",
       "\n",
       "    .dataframe tbody tr th {\n",
       "        vertical-align: top;\n",
       "    }\n",
       "\n",
       "    .dataframe thead th {\n",
       "        text-align: right;\n",
       "    }\n",
       "</style>\n",
       "<table border=\"1\" class=\"dataframe\">\n",
       "  <thead>\n",
       "    <tr style=\"text-align: right;\">\n",
       "      <th></th>\n",
       "      <th>Customer ID</th>\n",
       "      <th>Recency</th>\n",
       "      <th>Frequency</th>\n",
       "      <th>Monetary</th>\n",
       "      <th>Cluster</th>\n",
       "      <th>RFMSegment</th>\n",
       "    </tr>\n",
       "  </thead>\n",
       "  <tbody>\n",
       "    <tr>\n",
       "      <th>0</th>\n",
       "      <td>12347</td>\n",
       "      <td>0.01</td>\n",
       "      <td>0.03</td>\n",
       "      <td>0.02</td>\n",
       "      <td>9</td>\n",
       "      <td>Champions</td>\n",
       "    </tr>\n",
       "    <tr>\n",
       "      <th>1</th>\n",
       "      <td>12348</td>\n",
       "      <td>0.20</td>\n",
       "      <td>0.01</td>\n",
       "      <td>0.01</td>\n",
       "      <td>4</td>\n",
       "      <td>At Risk</td>\n",
       "    </tr>\n",
       "    <tr>\n",
       "      <th>2</th>\n",
       "      <td>12349</td>\n",
       "      <td>0.05</td>\n",
       "      <td>0.00</td>\n",
       "      <td>0.01</td>\n",
       "      <td>9</td>\n",
       "      <td>Promising</td>\n",
       "    </tr>\n",
       "    <tr>\n",
       "      <th>3</th>\n",
       "      <td>12350</td>\n",
       "      <td>0.83</td>\n",
       "      <td>0.00</td>\n",
       "      <td>0.00</td>\n",
       "      <td>10</td>\n",
       "      <td>Hibernating</td>\n",
       "    </tr>\n",
       "    <tr>\n",
       "      <th>4</th>\n",
       "      <td>12352</td>\n",
       "      <td>0.10</td>\n",
       "      <td>0.03</td>\n",
       "      <td>0.01</td>\n",
       "      <td>1</td>\n",
       "      <td>Loyal Customers</td>\n",
       "    </tr>\n",
       "  </tbody>\n",
       "</table>\n",
       "</div>"
      ],
      "text/plain": [
       "   Customer ID  Recency  Frequency  Monetary  Cluster       RFMSegment\n",
       "0        12347     0.01       0.03      0.02        9        Champions\n",
       "1        12348     0.20       0.01      0.01        4          At Risk\n",
       "2        12349     0.05       0.00      0.01        9        Promising\n",
       "3        12350     0.83       0.00      0.00       10      Hibernating\n",
       "4        12352     0.10       0.03      0.01        1  Loyal Customers"
      ]
     },
     "execution_count": 33,
     "metadata": {},
     "output_type": "execute_result"
    }
   ],
   "source": [
    "df.head()"
   ]
  },
  {
   "cell_type": "code",
   "execution_count": 34,
   "metadata": {},
   "outputs": [
    {
     "data": {
      "text/plain": [
       "Cluster  RFMSegment         \n",
       "1        About to Sleep         235\n",
       "         Loyal Customers        361\n",
       "         Need Attention         135\n",
       "         Potential Loyalists     84\n",
       "         Promising               22\n",
       "2        At Risk                 55\n",
       "         Can't Loose              2\n",
       "         Hibernating            220\n",
       "3        At Risk                175\n",
       "         Can't Loose             16\n",
       "         Hibernating            174\n",
       "4        About to Sleep         113\n",
       "         At Risk                176\n",
       "         Can't Loose             31\n",
       "         Hibernating            170\n",
       "         Loyal Customers         67\n",
       "         Need Attention          54\n",
       "5        At Risk                  7\n",
       "         Can't Loose              1\n",
       "         Hibernating            122\n",
       "6        Champions              147\n",
       "         Loyal Customers         25\n",
       "7        At Risk                140\n",
       "         Can't Loose             12\n",
       "         Hibernating            196\n",
       "8        Champions                7\n",
       "9        Champions              475\n",
       "         Loyal Customers        363\n",
       "         New Customers           40\n",
       "         Potential Loyalists    400\n",
       "         Promising               70\n",
       "10       At Risk                 31\n",
       "         Can't Loose              2\n",
       "         Hibernating            185\n",
       "Name: RFMSegment, dtype: int64"
      ]
     },
     "execution_count": 34,
     "metadata": {},
     "output_type": "execute_result"
    }
   ],
   "source": [
    "df.groupby(['Cluster','RFMSegment'])['RFMSegment'].count()"
   ]
  },
  {
   "cell_type": "markdown",
   "metadata": {},
   "source": [
    "# Determining the Optimum Number of Clusters"
   ]
  },
  {
   "cell_type": "code",
   "execution_count": 45,
   "metadata": {},
   "outputs": [
    {
     "data": {
      "text/plain": [
       "Text(0.5, 1.0, 'Elbow method for Optimum number of clusters')"
      ]
     },
     "execution_count": 45,
     "metadata": {},
     "output_type": "execute_result"
    },
    {
     "data": {
      "image/png": "[encoded data removed]",
      "text/plain": [
       "<Figure size 576x396 with 1 Axes>"
      ]
     },
     "metadata": {},
     "output_type": "display_data"
    }
   ],
   "source": [
    "ssd = []\n",
    "\n",
    "K = range(1,30)\n",
    "\n",
    "for k in K:\n",
    "    kmeans = KMeans(n_clusters = k).fit(df[['Recency','Frequency','Monetary']])\n",
    "    ssd.append(kmeans.inertia_)\n",
    "\n",
    "plt.plot(K, ssd, \"bx--\")\n",
    "plt.xlabel(\"Distance Residual Sums Versus Different k Values\")\n",
    "plt.title(\"Elbow method for Optimum number of clusters\")"
   ]
  },
  {
   "cell_type": "code",
   "execution_count": 39,
   "metadata": {},
   "outputs": [
    {
     "data": {
      "image/png": "[encoded data removed]",
      "text/plain": [
       "<Figure size 576x396 with 2 Axes>"
      ]
     },
     "metadata": {},
     "output_type": "display_data"
    }
   ],
   "source": [
    "from yellowbrick.cluster import KElbowVisualizer\n",
    "kmeans = KMeans()\n",
    "visu = KElbowVisualizer(kmeans, k = (2,20))\n",
    "visu.fit(df[['Recency','Frequency','Monetary']])\n",
    "visu.poof();"
   ]
  },
  {
   "cell_type": "code",
   "execution_count": 41,
   "metadata": {},
   "outputs": [],
   "source": [
    "kmeans = KMeans(n_clusters = 5).fit(df[['Recency','Frequency','Monetary']])\n",
    "kumeler = kmeans.labels_\n",
    "pd.DataFrame({\"Customer ID\": rfm.index, \"Kumeler\": kumeler})\n",
    "rfm[\"cluster_no\"] = kumeler\n",
    "rfm[\"cluster_no\"] = rfm[\"cluster_no\"] + 1"
   ]
  },
  {
   "cell_type": "code",
   "execution_count": 42,
   "metadata": {},
   "outputs": [
    {
     "data": {
      "text/html": [
       "<div>\n",
       "<style scoped>\n",
       "    .dataframe tbody tr th:only-of-type {\n",
       "        vertical-align: middle;\n",
       "    }\n",
       "\n",
       "    .dataframe tbody tr th {\n",
       "        vertical-align: top;\n",
       "    }\n",
       "\n",
       "    .dataframe thead th {\n",
       "        text-align: right;\n",
       "    }\n",
       "</style>\n",
       "<table border=\"1\" class=\"dataframe\">\n",
       "  <thead>\n",
       "    <tr style=\"text-align: right;\">\n",
       "      <th></th>\n",
       "      <th>cluster_no</th>\n",
       "    </tr>\n",
       "    <tr>\n",
       "      <th>cluster_no</th>\n",
       "      <th></th>\n",
       "    </tr>\n",
       "  </thead>\n",
       "  <tbody>\n",
       "    <tr>\n",
       "      <th>1</th>\n",
       "      <td>2046</td>\n",
       "    </tr>\n",
       "    <tr>\n",
       "      <th>2</th>\n",
       "      <td>423</td>\n",
       "    </tr>\n",
       "    <tr>\n",
       "      <th>3</th>\n",
       "      <td>517</td>\n",
       "    </tr>\n",
       "    <tr>\n",
       "      <th>4</th>\n",
       "      <td>1040</td>\n",
       "    </tr>\n",
       "    <tr>\n",
       "      <th>5</th>\n",
       "      <td>287</td>\n",
       "    </tr>\n",
       "  </tbody>\n",
       "</table>\n",
       "</div>"
      ],
      "text/plain": [
       "            cluster_no\n",
       "cluster_no            \n",
       "1                 2046\n",
       "2                  423\n",
       "3                  517\n",
       "4                 1040\n",
       "5                  287"
      ]
     },
     "execution_count": 42,
     "metadata": {},
     "output_type": "execute_result"
    }
   ],
   "source": [
    "rfm.groupby(\"cluster_no\").agg({\"cluster_no\":\"count\"})"
   ]
  },
  {
   "cell_type": "code",
   "execution_count": 46,
   "metadata": {},
   "outputs": [
    {
     "data": {
      "text/html": [
       "<div>\n",
       "<style scoped>\n",
       "    .dataframe tbody tr th:only-of-type {\n",
       "        vertical-align: middle;\n",
       "    }\n",
       "\n",
       "    .dataframe tbody tr th {\n",
       "        vertical-align: top;\n",
       "    }\n",
       "\n",
       "    .dataframe thead tr th {\n",
       "        text-align: left;\n",
       "    }\n",
       "\n",
       "    .dataframe thead tr:last-of-type th {\n",
       "        text-align: right;\n",
       "    }\n",
       "</style>\n",
       "<table border=\"1\" class=\"dataframe\">\n",
       "  <thead>\n",
       "    <tr>\n",
       "      <th></th>\n",
       "      <th colspan=\"3\" halign=\"left\">Recency</th>\n",
       "      <th colspan=\"3\" halign=\"left\">Frequency</th>\n",
       "      <th colspan=\"3\" halign=\"left\">Monetary</th>\n",
       "    </tr>\n",
       "    <tr>\n",
       "      <th></th>\n",
       "      <th>mean</th>\n",
       "      <th>count</th>\n",
       "      <th>sum</th>\n",
       "      <th>mean</th>\n",
       "      <th>count</th>\n",
       "      <th>sum</th>\n",
       "      <th>mean</th>\n",
       "      <th>count</th>\n",
       "      <th>sum</th>\n",
       "    </tr>\n",
       "    <tr>\n",
       "      <th>cluster_no</th>\n",
       "      <th></th>\n",
       "      <th></th>\n",
       "      <th></th>\n",
       "      <th></th>\n",
       "      <th></th>\n",
       "      <th></th>\n",
       "      <th></th>\n",
       "      <th></th>\n",
       "      <th></th>\n",
       "    </tr>\n",
       "  </thead>\n",
       "  <tbody>\n",
       "    <tr>\n",
       "      <th>1</th>\n",
       "      <td>16.76</td>\n",
       "      <td>2046</td>\n",
       "      <td>34284</td>\n",
       "      <td>6.56</td>\n",
       "      <td>2046</td>\n",
       "      <td>13427</td>\n",
       "      <td>2969.68</td>\n",
       "      <td>2046</td>\n",
       "      <td>6075955.56</td>\n",
       "    </tr>\n",
       "    <tr>\n",
       "      <th>2</th>\n",
       "      <td>248.13</td>\n",
       "      <td>423</td>\n",
       "      <td>104960</td>\n",
       "      <td>1.44</td>\n",
       "      <td>423</td>\n",
       "      <td>608</td>\n",
       "      <td>462.46</td>\n",
       "      <td>423</td>\n",
       "      <td>195622.06</td>\n",
       "    </tr>\n",
       "    <tr>\n",
       "      <th>3</th>\n",
       "      <td>160.18</td>\n",
       "      <td>517</td>\n",
       "      <td>82811</td>\n",
       "      <td>2.09</td>\n",
       "      <td>517</td>\n",
       "      <td>1082</td>\n",
       "      <td>635.52</td>\n",
       "      <td>517</td>\n",
       "      <td>328561.67</td>\n",
       "    </tr>\n",
       "    <tr>\n",
       "      <th>4</th>\n",
       "      <td>71.92</td>\n",
       "      <td>1040</td>\n",
       "      <td>74793</td>\n",
       "      <td>2.65</td>\n",
       "      <td>1040</td>\n",
       "      <td>2759</td>\n",
       "      <td>1009.97</td>\n",
       "      <td>1040</td>\n",
       "      <td>1050372.84</td>\n",
       "    </tr>\n",
       "    <tr>\n",
       "      <th>5</th>\n",
       "      <td>334.82</td>\n",
       "      <td>287</td>\n",
       "      <td>96093</td>\n",
       "      <td>1.36</td>\n",
       "      <td>287</td>\n",
       "      <td>391</td>\n",
       "      <td>377.25</td>\n",
       "      <td>287</td>\n",
       "      <td>108271.16</td>\n",
       "    </tr>\n",
       "  </tbody>\n",
       "</table>\n",
       "</div>"
      ],
      "text/plain": [
       "           Recency               Frequency              Monetary        \\\n",
       "              mean count     sum      mean count    sum     mean count   \n",
       "cluster_no                                                               \n",
       "1            16.76  2046   34284      6.56  2046  13427  2969.68  2046   \n",
       "2           248.13   423  104960      1.44   423    608   462.46   423   \n",
       "3           160.18   517   82811      2.09   517   1082   635.52   517   \n",
       "4            71.92  1040   74793      2.65  1040   2759  1009.97  1040   \n",
       "5           334.82   287   96093      1.36   287    391   377.25   287   \n",
       "\n",
       "                       \n",
       "                  sum  \n",
       "cluster_no             \n",
       "1          6075955.56  \n",
       "2           195622.06  \n",
       "3           328561.67  \n",
       "4          1050372.84  \n",
       "5           108271.16  "
      ]
     },
     "execution_count": 46,
     "metadata": {},
     "output_type": "execute_result"
    }
   ],
   "source": [
    "rfm[[\"cluster_no\", \"Recency\" , \"Frequency\" , \"Monetary\"]].groupby([\"cluster_no\"]).agg([\"mean\",\"count\",\"sum\"])"
   ]
  }
 ],
 "metadata": {
  "kernelspec": {
   "display_name": "Python 3",
   "language": "python",
   "name": "python3"
  },
  "language_info": {
   "codemirror_mode": {
    "name": "ipython",
    "version": 3
   },
   "file_extension": ".py",
   "mimetype": "text/x-python",
   "name": "python",
   "nbconvert_exporter": "python",
   "pygments_lexer": "ipython3",
   "version": "3.7.6"
  }
 },
 "nbformat": 4,
 "nbformat_minor": 4
}
